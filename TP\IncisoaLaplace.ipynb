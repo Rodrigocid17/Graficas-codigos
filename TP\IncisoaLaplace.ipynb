{
  "nbformat": 4,
  "nbformat_minor": 0,
  "metadata": {
    "colab": {
      "provenance": [],
      "authorship_tag": "ABX9TyNL5xVj05Vy+4G0co8eBMgK",
      "include_colab_link": true
    },
    "kernelspec": {
      "name": "python3",
      "display_name": "Python 3"
    },
    "language_info": {
      "name": "python"
    }
  },
  "cells": [
    {
      "cell_type": "markdown",
      "metadata": {
        "id": "view-in-github",
        "colab_type": "text"
      },
      "source": [
        "<a href=\"https://colab.research.google.com/github/Rodrigocid17/Graficas-codigos/blob/main/TP%5CIncisoaLaplace.ipynb\" target=\"_parent\"><img src=\"https://colab.research.google.com/assets/colab-badge.svg\" alt=\"Open In Colab\"/></a>"
      ]
    },
    {
      "cell_type": "markdown",
      "source": [
        "# Problema Laplace inciso a)\n",
        "Macias Cid Rodrigo"
      ],
      "metadata": {
        "id": "prwMB5P8lS4t"
      }
    },
    {
      "cell_type": "markdown",
      "source": [
        "Considerando:  $\\frac{\\partial ^2u}{\\partial x^2}+\\frac{\\partial ^2u}{\\partial y^2}=0$\n",
        "\n",
        "Con condiciones de frontera en:\n",
        "\n",
        "0<x<1 u(0,y)=0=u(1,y)\n",
        "\n",
        "0<x<1 u(x,0)=0 u(x,1)=100 u(x,1)=200\n"
      ],
      "metadata": {
        "id": "cuJ1hGL3mURB"
      }
    },
    {
      "cell_type": "code",
      "execution_count": null,
      "metadata": {
        "id": "mMrFMhjHjBoO"
      },
      "outputs": [],
      "source": []
    }
  ]
}